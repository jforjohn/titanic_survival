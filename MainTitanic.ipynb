{
 "cells": [
  {
   "cell_type": "code",
   "execution_count": 1,
   "metadata": {},
   "outputs": [],
   "source": [
    "import pandas as pd\n",
    "import numpy as np\n",
    "from config_loader import load\n",
    "import argparse\n",
    "import sys\n",
    "import seaborn as sns\n",
    "from MyDataUnderstanding import featureAnalysis\n",
    "from MyPreprocessing import MyPreprocessing\n",
    "import numpy as np\n",
    "from time import time\n",
    "from sklearn.decomposition import PCA\n",
    "from sklearn.decomposition import IncrementalPCA\n",
    "import matplotlib.pyplot as plt"
   ]
  },
  {
   "cell_type": "code",
   "execution_count": 2,
   "metadata": {},
   "outputs": [],
   "source": [
    "pd.set_option('display.max_rows', 100)\n",
    "pd.set_option('display.max_columns', 20)\n",
    "pd.set_option('display.width', 500)"
   ]
  },
  {
   "cell_type": "code",
   "execution_count": 3,
   "metadata": {},
   "outputs": [],
   "source": [
    "def getData(path, filenames_type):\n",
    "    '''\n",
    "    features_lst = [\n",
    "        \"Pclass\", \"Survived\", \"Name\", \"Sex\", \"Age\",\n",
    "        \"Sibsp\", \"Parch\", \"Ticket\", \"Fare\", \"Cabin\",\"Embarked\",\n",
    "        \"Boat\",\"Body\",\"Home.dest\"]\n",
    "    '''\n",
    "    if filenames_type == 'train':\n",
    "        filename = 'train'\n",
    "    elif filenames_type == 'test':\n",
    "        filename = 'test'\n",
    "    else:\n",
    "        filename = 'titanicAll'\n",
    "        \n",
    "    df_features = pd.read_csv(path + filename + '.csv',\n",
    "                           sep=',')\n",
    "\n",
    "    if filename not in ['train', 'test']:\n",
    "        # drop unnecessary columns that don't exist in the official data\n",
    "        df_features.drop(['Boat', 'Body', 'Home.dest'],\n",
    "                           axis=1,\n",
    "                           inplace=True)\n",
    "    #labels = df_features['Survived']\n",
    "    #df_features = df_features.drop(['Survived'], axis=1)\n",
    "    return df_features"
   ]
  },
  {
   "cell_type": "code",
   "execution_count": 4,
   "metadata": {},
   "outputs": [],
   "source": [
    "parser = argparse.ArgumentParser()\n",
    "parser.add_argument(\n",
    "    \"-c\", \"--config\", default=\"titanic.cfg\",\n",
    "    help=\"specify the location of the clustering config file\"\n",
    ")\n",
    "args, _ = parser.parse_known_args()\n",
    "\n",
    "config_file = args.config\n",
    "config = load(config_file)\n",
    "\n",
    "##\n",
    "verbose = config.get('titanic', 'verbose')\n",
    "path = config.get('titanic', 'path') + '/'\n",
    "file_type = config.get('titanic', 'file_type')\n",
    "\n",
    "filename_type = 'train'\n",
    "if file_type == 'all':\n",
    "    filename_type = 'other'\n",
    "\n",
    "data = getData(path, filename_type)"
   ]
  },
  {
   "cell_type": "code",
   "execution_count": 5,
   "metadata": {},
   "outputs": [
    {
     "name": "stdout",
     "output_type": "stream",
     "text": [
      "Data summary\n",
      "            Pclass     Survived          Age        SibSp        Parch         Fare\n",
      "count  1309.000000  1309.000000  1046.000000  1309.000000  1309.000000  1308.000000\n",
      "mean      2.294882     0.381971    29.881138     0.498854     0.385027    33.295479\n",
      "std       0.837836     0.486055    14.413493     1.041658     0.865560    51.758668\n",
      "min       1.000000     0.000000     0.170000     0.000000     0.000000     0.000000\n",
      "25%       2.000000     0.000000    21.000000     0.000000     0.000000     7.895800\n",
      "50%       3.000000     0.000000    28.000000     0.000000     0.000000    14.454200\n",
      "75%       3.000000     1.000000    39.000000     1.000000     0.000000    31.275000\n",
      "max       3.000000     1.000000    80.000000     8.000000     9.000000   512.329200\n",
      "\n",
      "Categorical data summary\n",
      "                    Name   Sex    Ticket        Cabin Embarked\n",
      "count               1309  1309      1309          295     1307\n",
      "unique              1307     2       929          186        3\n",
      "top     Kelly, Mr. James  male  CA. 2343  C23 C25 C27        S\n",
      "freq                   2   843        11            6      914\n",
      "\n",
      "Pclass-Survived correlation\n",
      "        Survived\n",
      "Pclass          \n",
      "1       0.619195\n",
      "2       0.429603\n",
      "3       0.255289\n",
      "\n",
      "Sex-Survived correlation\n",
      "        Survived\n",
      "Sex             \n",
      "female  0.727468\n",
      "male    0.190985\n",
      "\n",
      "SibSp-Survived correlation\n",
      "       Survived\n",
      "SibSp          \n",
      "1      0.510972\n",
      "2      0.452381\n",
      "0      0.346801\n",
      "3      0.300000\n",
      "4      0.136364\n",
      "5      0.000000\n",
      "8      0.000000\n",
      "\n",
      "Parch-Survived correlation\n",
      "       Survived\n",
      "Parch          \n",
      "3      0.625000\n",
      "1      0.588235\n",
      "2      0.504425\n",
      "0      0.335329\n",
      "4      0.166667\n",
      "5      0.166667\n",
      "6      0.000000\n",
      "9      0.000000\n"
     ]
    }
   ],
   "source": [
    "featureAnalysis(data)"
   ]
  },
  {
   "cell_type": "markdown",
   "metadata": {},
   "source": [
    "* Names are unique across the dataset\n",
    "* Sex variable as two possible values with 63% male (top=male, freq=843/count(=1309)).\n",
    "* Cabin values have several dupicates across samples or several passengers shared a cabin but there are also many missing values (77%)\n",
    "* Embarked takes three possible values. S port used by most passengers (top=S)\n",
    "* Ticket feature has high ratio (29%) of duplicate values"
   ]
  },
  {
   "cell_type": "code",
   "execution_count": 6,
   "metadata": {},
   "outputs": [
    {
     "name": "stdout",
     "output_type": "stream",
     "text": [
      "0    1\n",
      "1    1\n",
      "2    0\n",
      "3    0\n",
      "4    0\n",
      "Name: Survived, dtype: int64\n",
      "   Pclass                                             Name     Sex    Age  SibSp  Parch  Ticket      Fare    Cabin Embarked   Title\n",
      "0       1                    Allen, Miss. Elisabeth Walton  female  29.00      0      0   24160  211.3375       B5        S    Miss\n",
      "1       1                   Allison, Master. Hudson Trevor    male   0.92      1      2  113781  151.5500  C22 C26        S  Master\n",
      "2       1                     Allison, Miss. Helen Loraine  female   2.00      1      2  113781  151.5500  C22 C26        S    Miss\n",
      "3       1             Allison, Mr. Hudson Joshua Creighton    male  30.00      1      2  113781  151.5500  C22 C26        S      Mr\n",
      "4       1  Allison, Mrs. Hudson J C (Bessie Waldo Daniels)  female  25.00      1      2  113781  151.5500  C22 C26        S     Mrs\n",
      "        Age  SibSp     Parch      Fare  Pclass_2  Pclass_3  Sex_male  Embarked_Q  Embarked_S  Title_Mr0  Title_Mr50  Title_Mrs  Title_Ms  Title_Sir\n",
      "0  0.361142  0.000  0.000000  0.412503       0.0       0.0       0.0         0.0         1.0        0.0         0.0        1.0       0.0        0.0\n",
      "1  0.009395  0.125  0.222222  0.295806       0.0       0.0       1.0         0.0         1.0        0.0         1.0        0.0       0.0        0.0\n",
      "2  0.022924  0.125  0.222222  0.295806       0.0       0.0       0.0         0.0         1.0        0.0         0.0        1.0       0.0        0.0\n",
      "3  0.373669  0.125  0.222222  0.295806       0.0       0.0       1.0         0.0         1.0        0.0         0.0        0.0       0.0        0.0\n",
      "4  0.311036  0.125  0.222222  0.295806       0.0       0.0       0.0         0.0         1.0        0.0         0.0        1.0       0.0        0.0\n"
     ]
    }
   ],
   "source": [
    "## Preprocessing\n",
    "preprocess = MyPreprocessing()\n",
    "preprocess.fit(data)\n",
    "df = preprocess.new_df\n",
    "# the labels \"Survived\"\n",
    "labels = preprocess.labels_\n",
    "print(labels.head())\n",
    "# the initial dataset without any preprocessing\n",
    "print(preprocess.df_initial.head())\n",
    "# the preprocessed data\n",
    "print(preprocess.new_df.head())"
   ]
  },
  {
   "cell_type": "code",
   "execution_count": null,
   "metadata": {},
   "outputs": [],
   "source": []
  }
 ],
 "metadata": {
  "kernelspec": {
   "display_name": "Python 3",
   "language": "python",
   "name": "python3"
  },
  "language_info": {
   "codemirror_mode": {
    "name": "ipython",
    "version": 3
   },
   "file_extension": ".py",
   "mimetype": "text/x-python",
   "name": "python",
   "nbconvert_exporter": "python",
   "pygments_lexer": "ipython3",
   "version": "3.6.6"
  }
 },
 "nbformat": 4,
 "nbformat_minor": 2
}
